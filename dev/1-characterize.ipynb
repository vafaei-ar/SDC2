{
 "cells": [
  {
   "cell_type": "code",
   "execution_count": 23,
   "metadata": {},
   "outputs": [],
   "source": [
    "import numpy as np\n",
    "import pylab as plt\n",
    "import pandas as pd\n",
    "import seaborn as sns\n",
    "from astropy.io import fits\n",
    "from astropy import units as u\n",
    "from sklearn.metrics import r2_score\n",
    "from astropy import wcs, coordinates\n",
    "from matplotlib.colors import LogNorm\n",
    "from scipy.ndimage import gaussian_filter \n",
    "from mpl_toolkits.axes_grid1 import make_axes_locatable\n",
    "from sklearn.model_selection import train_test_split\n",
    "\n",
    "\n",
    "from tensorflow import keras\n",
    "from tensorflow.keras import layers\n",
    "import tensorflow as tf\n",
    "from tensorflow.keras import regularizers\n",
    "from tensorflow.keras.preprocessing.image import ImageDataGenerator\n",
    "from tqdm.keras import TqdmCallback\n",
    "\n",
    "def make_gen(x):\n",
    "    def gen():\n",
    "      i = 0\n",
    "      while(i<len(x)):\n",
    "        yield next(x)\n",
    "        i +=1\n",
    "    return gen\n",
    "\n",
    "def add_noise(img,sigma=0.01):\n",
    "    '''Add random noise to an image'''\n",
    "    deviation = sigma*np.random.uniform(0,1)\n",
    "    noise = np.random.normal(0, sigma, img.shape)\n",
    "    img += noise\n",
    "    np.clip(img, 0., 1.)\n",
    "    return img\n"
   ]
  },
  {
   "cell_type": "markdown",
   "metadata": {},
   "source": [
    "### Loading the data, __sky__ is 21cm cube and __cont__ is continuum image and catalogue."
   ]
  },
  {
   "cell_type": "code",
   "execution_count": 3,
   "metadata": {},
   "outputs": [],
   "source": [
    "data_path = '/home/vafaeisa/scratch/ska/'"
   ]
  },
  {
   "cell_type": "code",
   "execution_count": 4,
   "metadata": {},
   "outputs": [
    {
     "name": "stderr",
     "output_type": "stream",
     "text": [
      "WARNING: VerifyWarning: Invalid 'BLANK' keyword in header.  The 'BLANK' keyword is only applicable to integer data, and will be ignored in this HDU. [astropy.io.fits.hdu.image]\n"
     ]
    }
   ],
   "source": [
    "sky = fits.open(data_path+'development/sky_dev_v2.fits')\n",
    "cont = fits.open(data_path+'development/cont_dev.fits')\n",
    "sources = pd.read_csv(data_path+'development/sky_dev_truthcat_v2.txt',delimiter=' ')\n",
    "sources = sources.sort_values('line_flux_integral',ascending=0).reset_index()\n",
    "\n",
    "psky = sky[0].data\n",
    "csky = cont[0].data\n",
    "\n",
    "# smoothed_sky = gaussian_filter(sky[0].data,sigma=(3,3,5))"
   ]
  },
  {
   "cell_type": "code",
   "execution_count": 5,
   "metadata": {},
   "outputs": [],
   "source": [
    "header = sky[0].header\n",
    "\n",
    "dfreq = header['CDELT3']\n",
    "freq0 = header['CRVAL3']\n",
    "\n",
    "# frequency list in the HI cube\n",
    "nf,nx,ny = sky[0].data.shape\n",
    "freqs = np.arange(freq0,freq0+nf*dfreq,dfreq)\n",
    "fqmhz = freqs/1e6\n",
    "\n",
    "coord_sys = wcs.WCS(header)\n",
    "ra, dec = sources['ra'],sources['dec']\n",
    "num_sources = len(ra)\n",
    "radec_coords = coordinates.SkyCoord(ra=ra, dec=dec, unit='deg', frame='fk5')\n",
    "coords_ar = np.vstack([radec_coords.ra*u.deg, radec_coords.dec*u.deg,\n",
    "                         np.zeros(num_sources)]).T\n",
    "xy_coords = coord_sys.wcs_world2pix(coords_ar, 0)\n",
    "x_coords, y_coords = xy_coords[:,0], xy_coords[:,1]\n",
    "f_coordsf = sources['central_freq']"
   ]
  },
  {
   "cell_type": "code",
   "execution_count": 6,
   "metadata": {},
   "outputs": [
    {
     "data": {
      "text/plain": [
       "((2580, 21, 21, 101), (2580, 5))"
      ]
     },
     "execution_count": 6,
     "metadata": {},
     "output_type": "execute_result"
    }
   ],
   "source": [
    "ds = 10\n",
    "dff = 50\n",
    "patches = []\n",
    "chars = []\n",
    "for ii in range(sources.shape[0]):\n",
    "    source = sources.loc[ii,:]\n",
    "    ra_s = source['ra']\n",
    "    dec_s = source['dec']\n",
    "    freq_s = source['central_freq']\n",
    "    ra_p,dec_p,freq_p = coord_sys.wcs_world2pix(np.array([ra_s,dec_s,freq_s]).reshape(1,3),0).T.astype(int)\n",
    "    ra_p,dec_p,freq_p = ra_p[0],dec_p[0],freq_p[0]\n",
    "    patch = psky[freq_p-dff:freq_p+dff+1,dec_p-ds:dec_p+ds+1,ra_p-ds:ra_p+ds+1]\n",
    "    if patch.shape!=(2*dff+1,2*ds+1,2*ds+1):\n",
    "        continue\n",
    "    \n",
    "    patches.append(patch.T)\n",
    "    chars.append(sources.loc[ii,['hi_size','line_flux_integral','pa','i','w20']].values)\n",
    "\n",
    "patches = np.array(patches)\n",
    "chars = np.array(chars)\n",
    "ndata,nd1,nd2,nd3 = patches.shape\n",
    "n_classes = chars.shape[1]\n",
    "patches.shape,chars.shape"
   ]
  },
  {
   "cell_type": "markdown",
   "metadata": {},
   "source": [
    "### Target character visualization"
   ]
  },
  {
   "cell_type": "code",
   "execution_count": 14,
   "metadata": {},
   "outputs": [
    {
     "data": {
      "text/plain": [
       "''"
      ]
     },
     "execution_count": 14,
     "metadata": {},
     "output_type": "execute_result"
    },
    {
     "data": {
      "image/png": "[encoded data removed]",
      "text/plain": [
       "<Figure size 432x288 with 1 Axes>"
      ]
     },
     "metadata": {
      "needs_background": "light"
     },
     "output_type": "display_data"
    }
   ],
   "source": [
    "plt.hist(chars[:,0],100)\n",
    "# plt.xscale('log')\n",
    ";"
   ]
  },
  {
   "cell_type": "code",
   "execution_count": 8,
   "metadata": {},
   "outputs": [],
   "source": [
    "data_gen_args = dict(rotation_range=0,\n",
    "                     width_shift_range=0.01,\n",
    "                     height_shift_range=0.01,\n",
    "                     zoom_range=0.01,\n",
    "                     horizontal_flip=True,\n",
    "                     vertical_flip=True,\n",
    "#                      preprocessing_function=add_noise,\n",
    "                     fill_mode=\"nearest\")\n",
    "\n",
    "aug = ImageDataGenerator(**data_gen_args)\n",
    "# flow = aug.flow(X_train,y_train,batch_size=32,seed=0)\n",
    "# flow_gen = make_gen(flow)\n",
    "# dataset = tf.data.Dataset.from_generator(flow_gen,output_types=(tf.float32),output_shapes=(None,nd1,nd2,nd3))\n"
   ]
  },
  {
   "cell_type": "markdown",
   "metadata": {},
   "source": [
    "## Classification\n",
    "We can reduce the problem to a classification problem to see how much the information is retrievable."
   ]
  },
  {
   "cell_type": "code",
   "execution_count": 9,
   "metadata": {},
   "outputs": [],
   "source": [
    "nclass = 2\n",
    "cls_ch = np.zeros((chars.shape[0],5,nclass))\n",
    "pbins = np.linspace(0,100,nclass+1)\n",
    "for i in range(5):\n",
    "    xx = chars[:,i]\n",
    "    bins = []\n",
    "    for j in range(nclass+1):\n",
    "        bins.append(np.percentile(xx,pbins[j]))\n",
    "    \n",
    "    for j in range(nclass):\n",
    "        filt = (bins[j]<xx) & (xx<bins[j+1])\n",
    "        cls_ch[filt,i,j] = 1\n"
   ]
  },
  {
   "cell_type": "markdown",
   "metadata": {},
   "source": [
    "#### a schematic vew of the lables"
   ]
  },
  {
   "cell_type": "code",
   "execution_count": 12,
   "metadata": {},
   "outputs": [
    {
     "data": {
      "text/plain": [
       "[]"
      ]
     },
     "execution_count": 12,
     "metadata": {},
     "output_type": "execute_result"
    },
    {
     "data": {
      "image/png": "[encoded data removed]",
      "text/plain": [
       "<Figure size 1800x144 with 1 Axes>"
      ]
     },
     "metadata": {},
     "output_type": "display_data"
    }
   ],
   "source": [
    "fig,ax = plt.subplots(figsize=(25,2))\n",
    "ax.imshow(cls_ch[:,0,:].T,cmap='gray',aspect='auto',interpolation='none')\n",
    "ax.set_xticks([])\n",
    "ax.set_yticks([])"
   ]
  },
  {
   "cell_type": "markdown",
   "metadata": {},
   "source": [
    "Now we have all 5 target values converted into 2 classes"
   ]
  },
  {
   "cell_type": "code",
   "execution_count": 16,
   "metadata": {},
   "outputs": [
    {
     "data": {
      "text/plain": [
       "(2580, 5, 2)"
      ]
     },
     "execution_count": 16,
     "metadata": {},
     "output_type": "execute_result"
    }
   ],
   "source": [
    "cls_ch.shape"
   ]
  },
  {
   "cell_type": "markdown",
   "metadata": {},
   "source": [
    "### 3D architecture definition"
   ]
  },
  {
   "cell_type": "code",
   "execution_count": 17,
   "metadata": {},
   "outputs": [],
   "source": [
    "def HighRes3DNetClassifier(input_shape, n_classes=1, activation=\"relu\", l1=1e-10, dropout_rate=0, name=\"highresnet\"):\n",
    "    \"\"\"Instantiate HighResNet model.\"\"\"\n",
    "\n",
    "    conv_kwds = {\"kernel_size\": (3, 3, 3), \"padding\": \"same\"}\n",
    "    \n",
    "    n_repeat = 3\n",
    "    n_base_filters = 4\n",
    "\n",
    "    inputs = layers.Input(shape=input_shape)\n",
    "    x = tf.expand_dims(inputs,-1)\n",
    "    x = layers.Conv3D(n_base_filters, **conv_kwds)(x)\n",
    "\n",
    "    for ii in range(n_repeat):\n",
    "        skip = x\n",
    "#         x = layers.BatchNormalization()(x)\n",
    "#         x = layers.Activation(activation)(x)\n",
    "#         x = layers.Conv3D(n_base_filters, **conv_kwds)(x)\n",
    "        x = layers.BatchNormalization()(x)\n",
    "        x = layers.Activation(activation)(x)\n",
    "        x = layers.Conv3D(n_base_filters, **conv_kwds)(x)\n",
    "        x = layers.Add()([x, skip])\n",
    "\n",
    "        x = layers.MaxPooling3D((2, 2, 4))(x)\n",
    "\n",
    "#     x = ZeroPadding3DChannels(n_base_filters//2)(x)\n",
    "#     for ii in range(n_repeat):\n",
    "#         skip = x\n",
    "#         x = layers.BatchNormalization()(x)\n",
    "#         x = layers.Activation(activation)(x)\n",
    "#         x = layers.Conv3D(n_base_filters * 2, dilation_rate=2, **conv_kwds)(x)\n",
    "#         x = layers.BatchNormalization()(x)\n",
    "#         x = layers.Activation(activation)(x)\n",
    "#         x = layers.Conv3D(n_base_filters * 2, dilation_rate=2, **conv_kwds)(x)\n",
    "#         x = layers.Add()([x, skip])\n",
    "        \n",
    "# #         x = layers.MaxPooling2D((2, 2))(x)\n",
    "\n",
    "#     x = ZeroPadding3DChannels(n_base_filters)(x)\n",
    "#     for ii in range(n_repeat):\n",
    "#         skip = x\n",
    "#         x = layers.BatchNormalization()(x)\n",
    "#         x = layers.Activation(activation)(x)\n",
    "#         x = layers.Conv3D(n_base_filters * 4, dilation_rate=4, **conv_kwds)(x)\n",
    "#         x = layers.BatchNormalization()(x)\n",
    "#         x = layers.Activation(activation)(x)\n",
    "#         x = layers.Conv3D(n_base_filters * 4, dilation_rate=4, **conv_kwds)(x)\n",
    "#         x = layers.Add()([x, skip])\n",
    "        \n",
    "#         x = layers.MaxPooling2D((2, 2))(x)\n",
    "\n",
    "\n",
    "    sh = x.shape[1:]\n",
    "#     print(sh)\n",
    "    x = layers.Flatten()(x)\n",
    "\n",
    "#     x = layers.Dense(np.prod(sh)//2, activation=\"relu\")(x)\n",
    "    x = layers.Dropout(0.2)(x)\n",
    "    x = layers.Dense(n_classes, activation=\"linear\")(x)\n",
    "\n",
    "#     x = layers.Conv3D(filters=n_classes, kernel_size=(1, 1, 1), padding=\"same\")(x)\n",
    "\n",
    "#     final_activation = \"sigmoid\" if n_classes == 1 else \"softmax\"\n",
    "#     final_activation = \"relu\"\n",
    "#     x = layers.Activation(final_activation)(x)\n",
    "#     x = tf.squeeze(x,-1)\n",
    "    \n",
    "#     x = layers.Flatten()(x)\n",
    "\n",
    "#     x = layers.Dense(n_latent, activation=\"relu\")(x)\n",
    "#     x = layers.Dropout(0.6)(x)\n",
    "#     out = layers.Dense(n_class, activation=\"softmax\",activity_regularizer=regularizers.l1(l1))(x)\n",
    "\n",
    "\n",
    "    # QUESTION: where should dropout go?\n",
    "    model = keras.Model(inputs=inputs, outputs=x, name=name) \n",
    "\n",
    "    model.compile(\n",
    "    #     loss=keras.losses.BinaryCrossentropy(),\n",
    "        loss=keras.losses.CategoricalCrossentropy(),\n",
    "        optimizer='adam',\n",
    "        metrics=[\"accuracy\"],\n",
    "    )\n",
    "    return model"
   ]
  },
  {
   "cell_type": "markdown",
   "metadata": {},
   "source": [
    "You can select the target by __ii__\n",
    "\n",
    "    0) Integrated line flux (Jy Hz)\n",
    "\n",
    "    1) HI size (arcsec)\n",
    "\n",
    "    2) Line width (km/s)\n",
    "\n",
    "    3) Position angle (degrees)\n",
    "\n",
    "    4) Inclination angle (degrees)\n",
    "    \n",
    "Warning: watch for augmentations!"
   ]
  },
  {
   "cell_type": "code",
   "execution_count": 20,
   "metadata": {},
   "outputs": [
    {
     "name": "stdout",
     "output_type": "stream",
     "text": [
      "(2064, 21, 21, 101) (516, 21, 21, 101) (2064, 2) (516, 2)\n"
     ]
    },
    {
     "name": "stderr",
     "output_type": "stream",
     "text": [
      "/home/vafaeisa/miniconda3/envs/gpu1/lib/python3.9/site-packages/keras_preprocessing/image/numpy_array_iterator.py:129: UserWarning: NumpyArrayIterator is set to use the data format convention \"channels_last\" (channels on axis 3), i.e. expected either 1, 3, or 4 channels on axis 3. However, it was passed an array with shape (2064, 21, 21, 101) (101 channels).\n",
      "  warnings.warn('NumpyArrayIterator is set to use the '\n"
     ]
    }
   ],
   "source": [
    "batch_size=32\n",
    "\n",
    "ii = 4\n",
    "X_train, X_test, y_train, y_test = train_test_split(patches,cls_ch[:,ii,:], test_size=0.2, random_state=42)\n",
    "print(X_train.shape, X_test.shape, y_train.shape, y_test.shape)\n",
    "\n",
    "flow = aug.flow(X_train,y_train,batch_size=32,seed=0)"
   ]
  },
  {
   "cell_type": "code",
   "execution_count": 21,
   "metadata": {},
   "outputs": [
    {
     "name": "stdout",
     "output_type": "stream",
     "text": [
      "Model: \"highresnet\"\n",
      "________________________________________________________________________________________________________________________\n",
      "Layer (type)                           Output Shape               Param #       Connected to                            \n",
      "========================================================================================================================\n",
      "input_1 (InputLayer)                   [(None, 21, 21, 101)]      0                                                     \n",
      "________________________________________________________________________________________________________________________\n",
      "tf.expand_dims (TFOpLambda)            (None, 21, 21, 101, 1)     0             input_1[0][0]                           \n",
      "________________________________________________________________________________________________________________________\n",
      "conv3d (Conv3D)                        (None, 21, 21, 101, 4)     112           tf.expand_dims[0][0]                    \n",
      "________________________________________________________________________________________________________________________\n",
      "batch_normalization (BatchNormalizatio (None, 21, 21, 101, 4)     16            conv3d[0][0]                            \n",
      "________________________________________________________________________________________________________________________\n",
      "activation (Activation)                (None, 21, 21, 101, 4)     0             batch_normalization[0][0]               \n",
      "________________________________________________________________________________________________________________________\n",
      "conv3d_1 (Conv3D)                      (None, 21, 21, 101, 4)     436           activation[0][0]                        \n",
      "________________________________________________________________________________________________________________________\n",
      "add (Add)                              (None, 21, 21, 101, 4)     0             conv3d_1[0][0]                          \n",
      "                                                                                conv3d[0][0]                            \n",
      "________________________________________________________________________________________________________________________\n",
      "max_pooling3d (MaxPooling3D)           (None, 10, 10, 25, 4)      0             add[0][0]                               \n",
      "________________________________________________________________________________________________________________________\n",
      "batch_normalization_1 (BatchNormalizat (None, 10, 10, 25, 4)      16            max_pooling3d[0][0]                     \n",
      "________________________________________________________________________________________________________________________\n",
      "activation_1 (Activation)              (None, 10, 10, 25, 4)      0             batch_normalization_1[0][0]             \n",
      "________________________________________________________________________________________________________________________\n",
      "conv3d_2 (Conv3D)                      (None, 10, 10, 25, 4)      436           activation_1[0][0]                      \n",
      "________________________________________________________________________________________________________________________\n",
      "add_1 (Add)                            (None, 10, 10, 25, 4)      0             conv3d_2[0][0]                          \n",
      "                                                                                max_pooling3d[0][0]                     \n",
      "________________________________________________________________________________________________________________________\n",
      "max_pooling3d_1 (MaxPooling3D)         (None, 5, 5, 6, 4)         0             add_1[0][0]                             \n",
      "________________________________________________________________________________________________________________________\n",
      "batch_normalization_2 (BatchNormalizat (None, 5, 5, 6, 4)         16            max_pooling3d_1[0][0]                   \n",
      "________________________________________________________________________________________________________________________\n",
      "activation_2 (Activation)              (None, 5, 5, 6, 4)         0             batch_normalization_2[0][0]             \n",
      "________________________________________________________________________________________________________________________\n",
      "conv3d_3 (Conv3D)                      (None, 5, 5, 6, 4)         436           activation_2[0][0]                      \n",
      "________________________________________________________________________________________________________________________\n",
      "add_2 (Add)                            (None, 5, 5, 6, 4)         0             conv3d_3[0][0]                          \n",
      "                                                                                max_pooling3d_1[0][0]                   \n",
      "________________________________________________________________________________________________________________________\n",
      "max_pooling3d_2 (MaxPooling3D)         (None, 2, 2, 1, 4)         0             add_2[0][0]                             \n",
      "________________________________________________________________________________________________________________________\n",
      "flatten (Flatten)                      (None, 16)                 0             max_pooling3d_2[0][0]                   \n",
      "________________________________________________________________________________________________________________________\n",
      "dropout (Dropout)                      (None, 16)                 0             flatten[0][0]                           \n",
      "________________________________________________________________________________________________________________________\n",
      "dense (Dense)                          (None, 2)                  34            dropout[0][0]                           \n",
      "========================================================================================================================\n",
      "Total params: 1,502\n",
      "Trainable params: 1,478\n",
      "Non-trainable params: 24\n",
      "________________________________________________________________________________________________________________________\n"
     ]
    }
   ],
   "source": [
    "model = HighRes3DNetClassifier(input_shape=(nd1,nd2,nd3), n_classes=nclass)\n",
    "model.summary(line_length=120,positions=[.33, .55, .67, 1.])"
   ]
  },
  {
   "cell_type": "code",
   "execution_count": 26,
   "metadata": {},
   "outputs": [
    {
     "data": {
      "application/vnd.jupyter.widget-view+json": {
       "model_id": "abf90e3309284f8db5aef66d52b58bed",
       "version_major": 2,
       "version_minor": 0
      },
      "text/plain": [
       "0epoch [00:00, ?epoch/s]"
      ]
     },
     "metadata": {},
     "output_type": "display_data"
    }
   ],
   "source": [
    "history = model.fit(flow,\n",
    "                    steps_per_epoch=X_train.shape[0] // batch_size,\n",
    "                    epochs=10,\n",
    "                    verbose=0,\n",
    "                    callbacks=[TqdmCallback(verbose=0)])"
   ]
  },
  {
   "cell_type": "markdown",
   "metadata": {},
   "source": [
    "OR we could try it as regression problem to predict all 5 values. This approach does not see to work easily"
   ]
  },
  {
   "cell_type": "markdown",
   "metadata": {},
   "source": [
    "# Regression"
   ]
  },
  {
   "cell_type": "code",
   "execution_count": 62,
   "metadata": {},
   "outputs": [],
   "source": [
    "# mins = \n",
    "means = np.mean(chars,axis=0,keepdims=1)\n",
    "stds = np.std(chars,axis=0,keepdims=1)\n",
    "\n",
    "chars_norm = chars-means\n",
    "chars_norm = chars_norm/stds\n",
    "\n",
    "\n",
    "mins = np.min(chars,axis=0,keepdims=1)\n",
    "maxs = np.max(chars,axis=0,keepdims=1)\n",
    "\n",
    "chars_norm = chars-mins\n",
    "chars_norm = chars_norm/(maxs-mins)\n",
    "# chars.shape\n",
    "chars_norm = chars_norm.astype(np.float32)"
   ]
  },
  {
   "cell_type": "code",
   "execution_count": 63,
   "metadata": {},
   "outputs": [
    {
     "name": "stderr",
     "output_type": "stream",
     "text": [
      "/home/vafaeisa/miniconda3/envs/gpu1/lib/python3.9/site-packages/keras_preprocessing/image/numpy_array_iterator.py:129: UserWarning: NumpyArrayIterator is set to use the data format convention \"channels_last\" (channels on axis 3), i.e. expected either 1, 3, or 4 channels on axis 3. However, it was passed an array with shape (2064, 21, 21, 101) (101 channels).\n",
      "  warnings.warn('NumpyArrayIterator is set to use the '\n"
     ]
    }
   ],
   "source": [
    "from sklearn.model_selection import train_test_split\n",
    "X_train, X_test, y_train, y_test = train_test_split(patches,chars_norm, test_size=0.2, random_state=42)\n",
    "X_train.shape, X_test.shape, y_train.shape, y_test.shape\n",
    "\n",
    "flow = aug.flow(X_train,y_train,batch_size=32,seed=0)"
   ]
  },
  {
   "cell_type": "code",
   "execution_count": 64,
   "metadata": {},
   "outputs": [
    {
     "name": "stdout",
     "output_type": "stream",
     "text": [
      "(32, 21, 21, 101) (32, 5)\n"
     ]
    },
    {
     "data": {
      "text/plain": [
       "(-0.5, 20.5, 20.5, -0.5)"
      ]
     },
     "execution_count": 64,
     "metadata": {},
     "output_type": "execute_result"
    },
    {
     "data": {
      "image/png": "[encoded data removed]",
      "text/plain": [
       "<Figure size 576x21816 with 1 Axes>"
      ]
     },
     "metadata": {},
     "output_type": "display_data"
    }
   ],
   "source": [
    "# xample,yample = dataset.batch(10)\n",
    "\n",
    "for e1,e2 in flow:\n",
    "    print(e1.shape,e2.shape)\n",
    "    break\n",
    "\n",
    "fig,ax = plt.subplots(1,1,figsize=(8,3*nd3))\n",
    "\n",
    "i = np.random.randint(e1.shape[0])\n",
    "ax.imshow(e1[i,:,:,:].mean(axis=-1))\n",
    "ax.axis('off')\n",
    "ax.axis('off')"
   ]
  },
  {
   "cell_type": "code",
   "execution_count": 108,
   "metadata": {},
   "outputs": [],
   "source": [
    "# data_gen_args = dict(rotation_range=10,\n",
    "#                      width_shift_range=0.1,\n",
    "#                      height_shift_range=0.1,\n",
    "#                      zoom_range=0.05,\n",
    "#                      horizontal_flip=True,\n",
    "#                      vertical_flip=True,\n",
    "#                      preprocessing_function=add_noise,\n",
    "#                      fill_mode=\"nearest\")\n",
    "\n",
    "# aug1 = ImageDataGenerator(**data_gen_args)\n",
    "# aug2 = ImageDataGenerator(**data_gen_args)\n",
    "\n",
    "# nac = nac_data_set[dname]\n",
    "# mac = mac_data_set[dname]\n",
    "\n",
    "# nac_flow = aug1.flow(nac,batch_size=BS,seed=seed)\n",
    "# mac_flow = aug2.flow(mac,batch_size=BS,seed=seed)\n",
    "# gen_nac = make_gen(nac_flow)\n",
    "# gen_mac = make_gen(mac_flow)\n",
    "# dataset1 = tf.data.Dataset.from_generator(gen_nac,output_types=(tf.float32),output_shapes=(None,nd1,nd2,nd3))\n",
    "# dataset2 = tf.data.Dataset.from_generator(gen_mac,output_types=(tf.float32),output_shapes=(None,nd1,nd2,nd3))\n",
    "# dataset3 = tf.data.Dataset.zip((dataset1, dataset2))#.batch(10)\n",
    "\n",
    "# federated_train_data.append(dataset3)"
   ]
  },
  {
   "cell_type": "code",
   "execution_count": 109,
   "metadata": {},
   "outputs": [],
   "source": [
    "# class ZeroPadding3DChannels(layers.Layer):\n",
    "#     \"\"\"Pad the last dimension of a 5D tensor symmetrically with zeros.\n",
    "#     This is meant for 3D convolutions, where tensors are 5D.\n",
    "#     \"\"\"\n",
    "\n",
    "#     def __init__(self, padding, **kwds):\n",
    "#         self.padding = padding\n",
    "#         # batch, x, y, z, channels\n",
    "#         self._paddings = [[0, 0], [0, 0], [0, 0], [0, 0], [self.padding, self.padding]]\n",
    "#         super(ZeroPadding3DChannels, self).__init__(**kwds)\n",
    "\n",
    "#     def call(self, x):\n",
    "#         return tf.pad(x, paddings=self._paddings, mode='CONSTANT', constant_values=0)\n",
    "    \n",
    "#     def get_config(self):\n",
    "#         config = super().get_config().copy()\n",
    "#         config.update({\n",
    "#             'padding': self.padding \n",
    "#         })\n",
    "#         return config\n",
    "\n",
    "# def HighRes3DNet(input_shape, n_classes=1, activation=\"relu\", dropout_rate=0, name=\"highresnet\"):\n",
    "#     \"\"\"Instantiate HighResNet model.\"\"\"\n",
    "\n",
    "#     conv_kwds = {\"kernel_size\": (3, 3, 3), \"padding\": \"same\"}\n",
    "    \n",
    "#     n_repeat = 1\n",
    "#     n_base_filters = 4\n",
    "\n",
    "#     inputs = layers.Input(shape=input_shape)\n",
    "#     x = tf.expand_dims(inputs,-1)\n",
    "#     x = layers.Conv3D(n_base_filters, **conv_kwds)(x)\n",
    "\n",
    "#     for ii in range(n_repeat):\n",
    "#         skip = x\n",
    "#         x = layers.BatchNormalization()(x)\n",
    "#         x = layers.Activation(activation)(x)\n",
    "#         x = layers.Conv3D(n_base_filters, **conv_kwds)(x)\n",
    "#         x = layers.BatchNormalization()(x)\n",
    "#         x = layers.Activation(activation)(x)\n",
    "#         x = layers.Conv3D(n_base_filters, **conv_kwds)(x)\n",
    "#         x = layers.Add()([x, skip])\n",
    "        \n",
    "# #         x = layers.MaxPooling2D((2, 2))(x)\n",
    "\n",
    "#     x = ZeroPadding3DChannels(n_base_filters//2)(x)\n",
    "#     for ii in range(n_repeat):\n",
    "#         skip = x\n",
    "#         x = layers.BatchNormalization()(x)\n",
    "#         x = layers.Activation(activation)(x)\n",
    "#         x = layers.Conv3D(n_base_filters * 2, dilation_rate=2, **conv_kwds)(x)\n",
    "#         x = layers.BatchNormalization()(x)\n",
    "#         x = layers.Activation(activation)(x)\n",
    "#         x = layers.Conv3D(n_base_filters * 2, dilation_rate=2, **conv_kwds)(x)\n",
    "#         x = layers.Add()([x, skip])\n",
    "        \n",
    "# #         x = layers.MaxPooling2D((2, 2))(x)\n",
    "\n",
    "#     x = ZeroPadding3DChannels(n_base_filters)(x)\n",
    "#     for ii in range(n_repeat):\n",
    "#         skip = x\n",
    "#         x = layers.BatchNormalization()(x)\n",
    "#         x = layers.Activation(activation)(x)\n",
    "#         x = layers.Conv3D(n_base_filters * 4, dilation_rate=4, **conv_kwds)(x)\n",
    "#         x = layers.BatchNormalization()(x)\n",
    "#         x = layers.Activation(activation)(x)\n",
    "#         x = layers.Conv3D(n_base_filters * 4, dilation_rate=4, **conv_kwds)(x)\n",
    "#         x = layers.Add()([x, skip])\n",
    "        \n",
    "# #         x = layers.MaxPooling2D((2, 2))(x)\n",
    "\n",
    "#     x = layers.Conv3D(filters=n_classes, kernel_size=(1, 1, 1), padding=\"same\")(x)\n",
    "\n",
    "# #     final_activation = \"sigmoid\" if n_classes == 1 else \"softmax\"\n",
    "#     final_activation = \"relu\"\n",
    "#     x = layers.Activation(final_activation)(x)\n",
    "#     x = tf.squeeze(x,-1)\n",
    "    \n",
    "# #     x = layers.Flatten()(x)\n",
    "\n",
    "# #     x = layers.Dense(n_latent, activation=\"relu\")(x)\n",
    "# #     x = layers.Dropout(0.6)(x)\n",
    "# #     out = layers.Dense(n_class, activation=\"softmax\",activity_regularizer=regularizers.l1(l1))(x)\n",
    "\n",
    "\n",
    "#     # QUESTION: where should dropout go?\n",
    "\n",
    "#     return tf.keras.Model(inputs=inputs, outputs=x, name=name) \n",
    "\n",
    "# model0 = HighRes3DNet(input_shape=(nd1,nd2,nd3))\n",
    "# model0.summary(line_length=120,positions=[.33, .55, .67, 1.])"
   ]
  },
  {
   "cell_type": "code",
   "execution_count": 110,
   "metadata": {},
   "outputs": [],
   "source": [
    "class ZeroPadding3DChannels(layers.Layer):\n",
    "    \"\"\"Pad the last dimension of a 5D tensor symmetrically with zeros.\n",
    "    This is meant for 3D convolutions, where tensors are 5D.\n",
    "    \"\"\"\n",
    "\n",
    "    def __init__(self, padding, **kwds):\n",
    "        self.padding = padding\n",
    "        # batch, x, y, z, channels\n",
    "        self._paddings = [[0, 0], [0, 0], [0, 0], [0, 0], [self.padding, self.padding]]\n",
    "        super(ZeroPadding3DChannels, self).__init__(**kwds)\n",
    "\n",
    "    def call(self, x):\n",
    "        return tf.pad(x, paddings=self._paddings, mode='CONSTANT', constant_values=0)\n",
    "    \n",
    "    def get_config(self):\n",
    "        config = super().get_config().copy()\n",
    "        config.update({\n",
    "            'padding': self.padding \n",
    "        })\n",
    "        return config\n",
    "\n",
    "def HighRes3DNetRegressor(input_shape, n_classes=1, activation=\"relu\", l1=1e-10, dropout_rate=0, name=\"highresnet\"):\n",
    "    \"\"\"Instantiate HighResNet model.\"\"\"\n",
    "\n",
    "    conv_kwds = {\"kernel_size\": (3, 3, 3), \"padding\": \"same\"}\n",
    "    \n",
    "    n_repeat = 3\n",
    "    n_base_filters = 4\n",
    "\n",
    "    inputs = layers.Input(shape=input_shape)\n",
    "    x = tf.expand_dims(inputs,-1)\n",
    "    x = layers.Conv3D(n_base_filters, **conv_kwds)(x)\n",
    "\n",
    "    for ii in range(n_repeat):\n",
    "        skip = x\n",
    "#         x = layers.BatchNormalization()(x)\n",
    "#         x = layers.Activation(activation)(x)\n",
    "#         x = layers.Conv3D(n_base_filters, **conv_kwds)(x)\n",
    "        x = layers.BatchNormalization()(x)\n",
    "        x = layers.Activation(activation)(x)\n",
    "        x = layers.Conv3D(n_base_filters, **conv_kwds)(x)\n",
    "        x = layers.Add()([x, skip])\n",
    "\n",
    "        x = layers.MaxPooling3D((2, 2, 4))(x)\n",
    "\n",
    "#     x = ZeroPadding3DChannels(n_base_filters//2)(x)\n",
    "#     for ii in range(n_repeat):\n",
    "#         skip = x\n",
    "#         x = layers.BatchNormalization()(x)\n",
    "#         x = layers.Activation(activation)(x)\n",
    "#         x = layers.Conv3D(n_base_filters * 2, dilation_rate=2, **conv_kwds)(x)\n",
    "#         x = layers.BatchNormalization()(x)\n",
    "#         x = layers.Activation(activation)(x)\n",
    "#         x = layers.Conv3D(n_base_filters * 2, dilation_rate=2, **conv_kwds)(x)\n",
    "#         x = layers.Add()([x, skip])\n",
    "        \n",
    "# #         x = layers.MaxPooling2D((2, 2))(x)\n",
    "\n",
    "#     x = ZeroPadding3DChannels(n_base_filters)(x)\n",
    "#     for ii in range(n_repeat):\n",
    "#         skip = x\n",
    "#         x = layers.BatchNormalization()(x)\n",
    "#         x = layers.Activation(activation)(x)\n",
    "#         x = layers.Conv3D(n_base_filters * 4, dilation_rate=4, **conv_kwds)(x)\n",
    "#         x = layers.BatchNormalization()(x)\n",
    "#         x = layers.Activation(activation)(x)\n",
    "#         x = layers.Conv3D(n_base_filters * 4, dilation_rate=4, **conv_kwds)(x)\n",
    "#         x = layers.Add()([x, skip])\n",
    "        \n",
    "#         x = layers.MaxPooling2D((2, 2))(x)\n",
    "\n",
    "\n",
    "    sh = x.shape[1:]\n",
    "#     print(sh)\n",
    "    x = layers.Flatten()(x)\n",
    "\n",
    "    x = layers.Dense(np.prod(sh)//2, activation=\"relu\")(x)\n",
    "    x = layers.Dropout(0.3)(x)\n",
    "    x = layers.Dense(n_classes, activation=\"linear\")(x)\n",
    "\n",
    "#     x = layers.Conv3D(filters=n_classes, kernel_size=(1, 1, 1), padding=\"same\")(x)\n",
    "\n",
    "#     final_activation = \"sigmoid\" if n_classes == 1 else \"softmax\"\n",
    "#     final_activation = \"relu\"\n",
    "#     x = layers.Activation(final_activation)(x)\n",
    "#     x = tf.squeeze(x,-1)\n",
    "    \n",
    "#     x = layers.Flatten()(x)\n",
    "\n",
    "#     x = layers.Dense(n_latent, activation=\"relu\")(x)\n",
    "#     x = layers.Dropout(0.6)(x)\n",
    "#     out = layers.Dense(n_class, activation=\"softmax\",activity_regularizer=regularizers.l1(l1))(x)\n",
    "\n",
    "\n",
    "    # QUESTION: where should dropout go?\n",
    "    model = keras.Model(inputs=inputs, outputs=x, name=name) \n",
    "\n",
    "    model.compile(\n",
    "    #     loss=keras.losses.BinaryCrossentropy(),\n",
    "        loss=keras.losses.MeanSquaredError(),\n",
    "        optimizer='adam',\n",
    "        metrics=[\"accuracy\"],\n",
    "    )\n",
    "    return model\n",
    "\n",
    "# model0 = HighRes3DNetClassifier(input_shape=(nd1,nd2,nd3), n_classes=n_classes)\n",
    "# model0.summary(line_length=120,positions=[.33, .55, .67, 1.])"
   ]
  },
  {
   "cell_type": "code",
   "execution_count": 111,
   "metadata": {},
   "outputs": [],
   "source": [
    "# X_train, X_test, y_train, y_test = train_test_split(patches,chars_norm, test_size=0.2, random_state=42)\n",
    "\n",
    "# plt.hist(np.log(y_train[:,1]+1e-3))"
   ]
  },
  {
   "cell_type": "code",
   "execution_count": null,
   "metadata": {},
   "outputs": [],
   "source": []
  },
  {
   "cell_type": "code",
   "execution_count": 112,
   "metadata": {},
   "outputs": [
    {
     "name": "stdout",
     "output_type": "stream",
     "text": [
      "(773, 21, 21, 121) (773, 1)\n"
     ]
    }
   ],
   "source": [
    "models = []\n",
    "fluxmins = []\n",
    "# topw = np.array([500,700,1000,1500,2000,y_train.shape[0]])\n",
    "topw = np.array([y_train.shape[0]])\n",
    "\n",
    "for i in range(len(topw)):\n",
    "#     filt = trsh<np.log(y_train[:,1]+1e-5)\n",
    "#     flux = y_train[:,1]\n",
    "#     inds = np.argsort(flux)[::-1]\n",
    "#     inds = inds[:topw[i]]\n",
    "#     fluxmin = np.min(y_train[inds,1])\n",
    "#     print(i,fluxmin)\n",
    "#     fluxmins.append(fluxmin)\n",
    "    data_gen_args = dict(rotation_range=10,\n",
    "                         width_shift_range=0.1,\n",
    "                         height_shift_range=0.1,\n",
    "                         zoom_range=0.05,\n",
    "                         horizontal_flip=True,\n",
    "                         vertical_flip=True,\n",
    "                         preprocessing_function=add_noise,\n",
    "                         fill_mode=\"nearest\")\n",
    "\n",
    "    aug = ImageDataGenerator(**data_gen_args)\n",
    "    print(X_train[inds].shape,y_train[inds].shape)\n",
    "    flow = aug.flow(X_train[inds],y_train[inds],batch_size=32,seed=0)\n",
    "    batch_size = 32\n",
    "    \n",
    "    model = HighRes3DNetClassifier(input_shape=(nd1,nd2,nd3), n_classes=n_classes)\n",
    "    history = model.fit(flow,\n",
    "                        steps_per_epoch=X_train[inds].shape[0] // batch_size,\n",
    "                        epochs=150,\n",
    "                        verbose=0)\n",
    "    \n",
    "    models.append(model)"
   ]
  },
  {
   "cell_type": "code",
   "execution_count": 113,
   "metadata": {},
   "outputs": [],
   "source": [
    "# # for i,fluxmin in enumerate(fluxmins):\n",
    "# #     filt1 = fluxmin<y_train[:,1]\n",
    "# #     filt = fluxmin<y_test[:,1]\n",
    "# #     print(filt1.sum(),filt.sum())\n",
    "\n",
    "\n",
    "\n",
    "# r2s = []\n",
    "\n",
    "# for i,fluxmin in enumerate(fluxmins):\n",
    "# #     filt = fluxmin<y_test[:,1]\n",
    "#     data_gen_args = dict(rotation_range=10,\n",
    "#                          width_shift_range=0.1,\n",
    "#                          height_shift_range=0.1,\n",
    "#                          zoom_range=0.05,\n",
    "#                          horizontal_flip=True,\n",
    "#                          vertical_flip=True,\n",
    "#                          preprocessing_function=add_noise,\n",
    "#                          fill_mode=\"nearest\")\n",
    "\n",
    "# #     aug = ImageDataGenerator(**data_gen_args)\n",
    "# #     flow = aug.flow(X_test[filt],y_test[filt],batch_size=32,seed=0)\n",
    "# #     batch_size = 32\n",
    "\n",
    "#     model = models[i]\n",
    "    \n",
    "#     y_pred = model.predict(X_test)\n",
    "#     rp = []\n",
    "#     for j in range(n_classes): \n",
    "#         rp.append(r2_score(y_test[:,j],y_pred[:,j]))\n",
    "#     r2s.append(rp)\n",
    "# r2s = np.array(r2s)\n",
    "# print(r2s)"
   ]
  },
  {
   "cell_type": "code",
   "execution_count": 114,
   "metadata": {},
   "outputs": [
    {
     "name": "stdout",
     "output_type": "stream",
     "text": [
      "-0.012581847198845253\n"
     ]
    }
   ],
   "source": [
    "data_gen_args = dict(rotation_range=10,\n",
    "                     width_shift_range=0.1,\n",
    "                     height_shift_range=0.1,\n",
    "                     zoom_range=0.05,\n",
    "                     horizontal_flip=True,\n",
    "                     vertical_flip=True,\n",
    "                     preprocessing_function=add_noise,\n",
    "                     fill_mode=\"nearest\")\n",
    "\n",
    "#     aug = ImageDataGenerator(**data_gen_args)\n",
    "#     flow = aug.flow(X_test[filt],y_test[filt],batch_size=32,seed=0)\n",
    "#     batch_size = 32\n",
    "\n",
    "model = models[0]\n",
    "\n",
    "y_pred = model.predict(X_test)\n",
    "rp = []\n",
    "for j in range(n_classes): \n",
    "    print(r2_score(y_test[:,j],y_pred[:,j]))"
   ]
  },
  {
   "cell_type": "code",
   "execution_count": 63,
   "metadata": {},
   "outputs": [
    {
     "ename": "IndexError",
     "evalue": "too many indices for array: array is 1-dimensional, but 2 were indexed",
     "output_type": "error",
     "traceback": [
      "\u001b[0;31m---------------------------------------------------------------------------\u001b[0m",
      "\u001b[0;31mIndexError\u001b[0m                                Traceback (most recent call last)",
      "\u001b[0;32m<ipython-input-63-16a3cf99f2f2>\u001b[0m in \u001b[0;36m<module>\u001b[0;34m\u001b[0m\n\u001b[1;32m      4\u001b[0m \u001b[0;34m\u001b[0m\u001b[0m\n\u001b[1;32m      5\u001b[0m \u001b[0;32mfor\u001b[0m \u001b[0mi\u001b[0m \u001b[0;32min\u001b[0m \u001b[0mrange\u001b[0m\u001b[0;34m(\u001b[0m\u001b[0mn_classes\u001b[0m\u001b[0;34m)\u001b[0m\u001b[0;34m:\u001b[0m\u001b[0;34m\u001b[0m\u001b[0;34m\u001b[0m\u001b[0m\n\u001b[0;32m----> 6\u001b[0;31m     \u001b[0max\u001b[0m\u001b[0;34m.\u001b[0m\u001b[0mplot\u001b[0m\u001b[0;34m(\u001b[0m\u001b[0mfluxmins\u001b[0m\u001b[0;34m,\u001b[0m\u001b[0mr2s\u001b[0m\u001b[0;34m[\u001b[0m\u001b[0;34m:\u001b[0m\u001b[0;34m,\u001b[0m\u001b[0mi\u001b[0m\u001b[0;34m]\u001b[0m\u001b[0;34m,\u001b[0m\u001b[0mlabel\u001b[0m\u001b[0;34m=\u001b[0m\u001b[0mlbls\u001b[0m\u001b[0;34m[\u001b[0m\u001b[0mi\u001b[0m\u001b[0;34m]\u001b[0m\u001b[0;34m)\u001b[0m\u001b[0;34m\u001b[0m\u001b[0;34m\u001b[0m\u001b[0m\n\u001b[0m\u001b[1;32m      7\u001b[0m \u001b[0;34m\u001b[0m\u001b[0m\n\u001b[1;32m      8\u001b[0m \u001b[0max\u001b[0m\u001b[0;34m.\u001b[0m\u001b[0mset_ylim\u001b[0m\u001b[0;34m(\u001b[0m\u001b[0;34m-\u001b[0m\u001b[0;36m2\u001b[0m\u001b[0;34m,\u001b[0m\u001b[0;36m1\u001b[0m\u001b[0;34m)\u001b[0m\u001b[0;34m\u001b[0m\u001b[0;34m\u001b[0m\u001b[0m\n",
      "\u001b[0;31mIndexError\u001b[0m: too many indices for array: array is 1-dimensional, but 2 were indexed"
     ]
    },
    {
     "data": {
      "image/png": "[encoded data removed]",
      "text/plain": [
       "<Figure size 720x432 with 1 Axes>"
      ]
     },
     "metadata": {},
     "output_type": "display_data"
    }
   ],
   "source": [
    "lbls = ['hi_size','line_flux_integral','pa','i','w20']\n",
    "\n",
    "fig,ax = plt.subplots(1,1,figsize=(10,6))\n",
    "\n",
    "for i in range(n_classes):\n",
    "    ax.plot(fluxmins,r2s[:,i],label=lbls[i])\n",
    "    \n",
    "ax.set_ylim(-2,1)\n",
    "ax.legend(loc=(1,0.6))"
   ]
  },
  {
   "cell_type": "code",
   "execution_count": 39,
   "metadata": {},
   "outputs": [
    {
     "data": {
      "text/plain": [
       "(array([ 9., 27., 56., 62., 31.,  7.,  0.,  0.,  1.,  1.]),\n",
       " array([0.62516844, 0.6251741 , 0.62517977, 0.62518543, 0.6251911 ,\n",
       "        0.6251967 , 0.62520236, 0.625208  , 0.6252137 , 0.62521935,\n",
       "        0.625225  ], dtype=float32),\n",
       " <BarContainer object of 10 artists>)"
      ]
     },
     "execution_count": 39,
     "metadata": {},
     "output_type": "execute_result"
    },
    {
     "data": {
      "image/png": "[encoded data removed]",
      "text/plain": [
       "<Figure size 432x288 with 1 Axes>"
      ]
     },
     "metadata": {},
     "output_type": "display_data"
    }
   ],
   "source": [
    "j = 3\n",
    "\n",
    "plt.hist(y_test[:,j],color='b',alpha=0.2)\n",
    "plt.hist(y_pred[:,j],color='r')"
   ]
  },
  {
   "cell_type": "code",
   "execution_count": 40,
   "metadata": {},
   "outputs": [],
   "source": [
    "# y_pred[:,j]"
   ]
  },
  {
   "cell_type": "code",
   "execution_count": 41,
   "metadata": {},
   "outputs": [
    {
     "data": {
      "text/plain": [
       "1"
      ]
     },
     "execution_count": 41,
     "metadata": {},
     "output_type": "execute_result"
    }
   ],
   "source": [
    "1"
   ]
  },
  {
   "cell_type": "code",
   "execution_count": null,
   "metadata": {},
   "outputs": [],
   "source": []
  },
  {
   "cell_type": "code",
   "execution_count": null,
   "metadata": {},
   "outputs": [],
   "source": []
  },
  {
   "cell_type": "code",
   "execution_count": null,
   "metadata": {},
   "outputs": [],
   "source": []
  }
 ],
 "metadata": {
  "kernelspec": {
   "display_name": "gpu1",
   "language": "python",
   "name": "gpu1"
  },
  "language_info": {
   "codemirror_mode": {
    "name": "ipython",
    "version": 3
   },
   "file_extension": ".py",
   "mimetype": "text/x-python",
   "name": "python",
   "nbconvert_exporter": "python",
   "pygments_lexer": "ipython3",
   "version": "3.9.4"
  }
 },
 "nbformat": 4,
 "nbformat_minor": 4
}
